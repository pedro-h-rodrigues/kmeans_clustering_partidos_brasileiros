{
 "cells": [
  {
   "cell_type": "markdown",
   "metadata": {},
   "source": [
    "# Aplicação de modelo de clustering para classificação de partidos políticos\n",
    "\n",
    "### 1. Introdução\n",
    "\n",
    "O objetivo deste projeto é aplicar um modelo de clustering (um método de aprendizado de máquina não supervisionado) para agrupar os partidos políticos em grupos de acordo com as similaridades dos votos dos deputados federais vinculados ao partido.\n",
    "\n",
    "\n",
    "O clustering é um tipo de modelo de unsupervised machine-learning para classificação dos dados em grupos, ou clusters, com base em suas características. O termo \"unsupervised\" se deve ao fato de que para aplicar um modelo de clustering não é necessário treinar o modelo com dados pré-classificados para que o modelo \"aprenda\". Ao invés disse o modelo identifica os padrões e classifica os dados sem que receba nenhum treinamento prévio.\n",
    "\n",
    "Nesse projeto utilizarei dados obtidos no kaggle, que por sua vez foram obtidos através de web scrapping feito pelo usuário Irio Muskopf. O dataset pode ser encontrado no seguinte endereço: https://www.kaggle.com/iriomk/brazilian-federal-legislative-activity"
   ]
  },
  {
   "cell_type": "markdown",
   "metadata": {},
   "source": [
    "### 2. Importação das bibliotecas e exploração inicial do dataset\n",
    "\n",
    "O dataset que vamos utilizar (_'chamber_of_deputies_votes_congresspeople'_) contém informações dos votos dos deputados federais para diversas sessões realizadas no congresso brasileiro entre 1991 e 2015.\n",
    "\n",
    "As principais colunas do dataset são:\n",
    "\n",
    "  1. \"party\" com o partido do deputado\n",
    "  2. \"vote\" com o voto dado pelo deputado na sessão\n",
    "  3. \"term\" com o ano em que foi realizada a sessão\n",
    "  4. \"session_number\" com o número da sessão naquele ano"
   ]
  },
  {
   "cell_type": "code",
   "execution_count": 1,
   "metadata": {},
   "outputs": [],
   "source": [
    "import pandas as pd\n",
    "import numpy as np\n",
    "import matplotlib.pyplot as plt\n",
    "import seaborn as sns"
   ]
  },
  {
   "cell_type": "code",
   "execution_count": 2,
   "metadata": {},
   "outputs": [],
   "source": [
    "votes = pd.read_csv('chamber_of_deputies_votes_congresspeople.csv')"
   ]
  },
  {
   "cell_type": "code",
   "execution_count": 3,
   "metadata": {},
   "outputs": [
    {
     "data": {
      "text/html": [
       "<div>\n",
       "<style scoped>\n",
       "    .dataframe tbody tr th:only-of-type {\n",
       "        vertical-align: middle;\n",
       "    }\n",
       "\n",
       "    .dataframe tbody tr th {\n",
       "        vertical-align: top;\n",
       "    }\n",
       "\n",
       "    .dataframe thead th {\n",
       "        text-align: right;\n",
       "    }\n",
       "</style>\n",
       "<table border=\"1\" class=\"dataframe\">\n",
       "  <thead>\n",
       "    <tr style=\"text-align: right;\">\n",
       "      <th></th>\n",
       "      <th>name</th>\n",
       "      <th>vote</th>\n",
       "      <th>party</th>\n",
       "      <th>state</th>\n",
       "      <th>congressperson_id</th>\n",
       "      <th>term</th>\n",
       "      <th>body</th>\n",
       "      <th>legislative_schedule</th>\n",
       "      <th>legislative_session_number</th>\n",
       "      <th>schedule</th>\n",
       "      <th>session_number</th>\n",
       "    </tr>\n",
       "  </thead>\n",
       "  <tbody>\n",
       "    <tr>\n",
       "      <th>0</th>\n",
       "      <td>CARLOS ANDRADE</td>\n",
       "      <td>no</td>\n",
       "      <td>PHS</td>\n",
       "      <td>Roraima</td>\n",
       "      <td>3.0</td>\n",
       "      <td>2015</td>\n",
       "      <td>chamber_of_deputies</td>\n",
       "      <td>ordinary_session</td>\n",
       "      <td>1</td>\n",
       "      <td>ordinary_session</td>\n",
       "      <td>70</td>\n",
       "    </tr>\n",
       "    <tr>\n",
       "      <th>1</th>\n",
       "      <td>EDIO LOPES</td>\n",
       "      <td>no</td>\n",
       "      <td>PMDB</td>\n",
       "      <td>Roraima</td>\n",
       "      <td>2.0</td>\n",
       "      <td>2015</td>\n",
       "      <td>chamber_of_deputies</td>\n",
       "      <td>ordinary_session</td>\n",
       "      <td>1</td>\n",
       "      <td>ordinary_session</td>\n",
       "      <td>70</td>\n",
       "    </tr>\n",
       "    <tr>\n",
       "      <th>2</th>\n",
       "      <td>HIRAN GONÇALVES</td>\n",
       "      <td>no</td>\n",
       "      <td>PMN</td>\n",
       "      <td>Roraima</td>\n",
       "      <td>4.0</td>\n",
       "      <td>2015</td>\n",
       "      <td>chamber_of_deputies</td>\n",
       "      <td>ordinary_session</td>\n",
       "      <td>1</td>\n",
       "      <td>ordinary_session</td>\n",
       "      <td>70</td>\n",
       "    </tr>\n",
       "  </tbody>\n",
       "</table>\n",
       "</div>"
      ],
      "text/plain": [
       "              name vote party    state  congressperson_id  term  \\\n",
       "0   CARLOS ANDRADE   no   PHS  Roraima                3.0  2015   \n",
       "1       EDIO LOPES   no  PMDB  Roraima                2.0  2015   \n",
       "2  HIRAN GONÇALVES   no   PMN  Roraima                4.0  2015   \n",
       "\n",
       "                  body legislative_schedule  legislative_session_number  \\\n",
       "0  chamber_of_deputies     ordinary_session                           1   \n",
       "1  chamber_of_deputies     ordinary_session                           1   \n",
       "2  chamber_of_deputies     ordinary_session                           1   \n",
       "\n",
       "           schedule  session_number  \n",
       "0  ordinary_session              70  \n",
       "1  ordinary_session              70  \n",
       "2  ordinary_session              70  "
      ]
     },
     "execution_count": 3,
     "metadata": {},
     "output_type": "execute_result"
    }
   ],
   "source": [
    "votes.head(3)"
   ]
  },
  {
   "cell_type": "code",
   "execution_count": 4,
   "metadata": {},
   "outputs": [
    {
     "data": {
      "text/plain": [
       "name                               0\n",
       "vote                               1\n",
       "party                              1\n",
       "state                              1\n",
       "congressperson_id             262890\n",
       "term                               0\n",
       "body                               0\n",
       "legislative_schedule               0\n",
       "legislative_session_number         0\n",
       "schedule                           0\n",
       "session_number                     0\n",
       "dtype: int64"
      ]
     },
     "execution_count": 4,
     "metadata": {},
     "output_type": "execute_result"
    }
   ],
   "source": [
    "votes.isnull().sum()"
   ]
  },
  {
   "cell_type": "code",
   "execution_count": 5,
   "metadata": {},
   "outputs": [
    {
     "data": {
      "text/plain": [
       "name                           object\n",
       "vote                           object\n",
       "party                          object\n",
       "state                          object\n",
       "congressperson_id             float64\n",
       "term                            int64\n",
       "body                           object\n",
       "legislative_schedule           object\n",
       "legislative_session_number      int64\n",
       "schedule                       object\n",
       "session_number                  int64\n",
       "dtype: object"
      ]
     },
     "execution_count": 5,
     "metadata": {},
     "output_type": "execute_result"
    }
   ],
   "source": [
    "votes.dtypes"
   ]
  },
  {
   "cell_type": "markdown",
   "metadata": {},
   "source": [
    "### 3. Data cleaning\n",
    "Nesta etapa vamos limpar, tratar, filtrar e agrupar os dados antes de passá-los em nosso modelo de clustering."
   ]
  },
  {
   "cell_type": "markdown",
   "metadata": {},
   "source": [
    "**3.1. Apagando colunas desnecessárias**"
   ]
  },
  {
   "cell_type": "code",
   "execution_count": 6,
   "metadata": {},
   "outputs": [
    {
     "data": {
      "text/html": [
       "<div>\n",
       "<style scoped>\n",
       "    .dataframe tbody tr th:only-of-type {\n",
       "        vertical-align: middle;\n",
       "    }\n",
       "\n",
       "    .dataframe tbody tr th {\n",
       "        vertical-align: top;\n",
       "    }\n",
       "\n",
       "    .dataframe thead th {\n",
       "        text-align: right;\n",
       "    }\n",
       "</style>\n",
       "<table border=\"1\" class=\"dataframe\">\n",
       "  <thead>\n",
       "    <tr style=\"text-align: right;\">\n",
       "      <th></th>\n",
       "      <th>name</th>\n",
       "      <th>vote</th>\n",
       "      <th>party</th>\n",
       "      <th>congressperson_id</th>\n",
       "      <th>term</th>\n",
       "      <th>session_number</th>\n",
       "    </tr>\n",
       "  </thead>\n",
       "  <tbody>\n",
       "    <tr>\n",
       "      <th>0</th>\n",
       "      <td>CARLOS ANDRADE</td>\n",
       "      <td>no</td>\n",
       "      <td>PHS</td>\n",
       "      <td>3.0</td>\n",
       "      <td>2015</td>\n",
       "      <td>70</td>\n",
       "    </tr>\n",
       "    <tr>\n",
       "      <th>1</th>\n",
       "      <td>EDIO LOPES</td>\n",
       "      <td>no</td>\n",
       "      <td>PMDB</td>\n",
       "      <td>2.0</td>\n",
       "      <td>2015</td>\n",
       "      <td>70</td>\n",
       "    </tr>\n",
       "    <tr>\n",
       "      <th>2</th>\n",
       "      <td>HIRAN GONÇALVES</td>\n",
       "      <td>no</td>\n",
       "      <td>PMN</td>\n",
       "      <td>4.0</td>\n",
       "      <td>2015</td>\n",
       "      <td>70</td>\n",
       "    </tr>\n",
       "  </tbody>\n",
       "</table>\n",
       "</div>"
      ],
      "text/plain": [
       "              name vote party  congressperson_id  term  session_number\n",
       "0   CARLOS ANDRADE   no   PHS                3.0  2015              70\n",
       "1       EDIO LOPES   no  PMDB                2.0  2015              70\n",
       "2  HIRAN GONÇALVES   no   PMN                4.0  2015              70"
      ]
     },
     "execution_count": 6,
     "metadata": {},
     "output_type": "execute_result"
    }
   ],
   "source": [
    "votes = votes.drop(columns = ['body','legislative_schedule','schedule','state','legislative_session_number'])\n",
    "votes.head(3)"
   ]
  },
  {
   "cell_type": "markdown",
   "metadata": {},
   "source": [
    "**3.2. Corrigindo os nomes dos partidos**"
   ]
  },
  {
   "cell_type": "code",
   "execution_count": 7,
   "metadata": {},
   "outputs": [
    {
     "data": {
      "text/plain": [
       "{'Avante',\n",
       " 'DEM',\n",
       " 'PAN',\n",
       " 'PCB',\n",
       " 'PCdoB',\n",
       " 'PDC',\n",
       " 'PDS',\n",
       " 'PDT',\n",
       " 'PEN',\n",
       " 'PFL',\n",
       " 'PHDBS',\n",
       " 'PHS',\n",
       " 'PL',\n",
       " 'PMB',\n",
       " 'PMDB',\n",
       " 'PMN',\n",
       " 'PMR',\n",
       " 'PODE',\n",
       " 'PP',\n",
       " 'PPB',\n",
       " 'PPL',\n",
       " 'PPR',\n",
       " 'PPS',\n",
       " 'PR',\n",
       " 'PRB',\n",
       " 'PRN',\n",
       " 'PRONA',\n",
       " 'PROS',\n",
       " 'PRP',\n",
       " 'PRS',\n",
       " 'PRTB',\n",
       " 'PSB',\n",
       " 'PSC',\n",
       " 'PSD',\n",
       " 'PSDB',\n",
       " 'PSDC',\n",
       " 'PSL',\n",
       " 'PSOL',\n",
       " 'PST',\n",
       " 'PSTU',\n",
       " 'PT',\n",
       " 'PTB',\n",
       " 'PTC',\n",
       " 'PTN',\n",
       " 'PTR',\n",
       " 'PTdoB',\n",
       " 'PV',\n",
       " 'Podemos',\n",
       " 'REDE',\n",
       " 'S.Part',\n",
       " 'S.Part.',\n",
       " 'SDD',\n",
       " 'Solidarie',\n",
       " nan,\n",
       " 'nte  PMDB',\n",
       " 'nção PMDB',\n",
       " 'te  PCB',\n",
       " 'te  PCdoB',\n",
       " 'te  PDC',\n",
       " 'te  PDS',\n",
       " 'te  PDT',\n",
       " 'te  PFL',\n",
       " 'te  PL',\n",
       " 'te  PMDB',\n",
       " 'te  PMN',\n",
       " 'te  PP',\n",
       " 'te  PPR',\n",
       " 'te  PRN',\n",
       " 'te  PRONA',\n",
       " 'te  PRS',\n",
       " 'te  PSB',\n",
       " 'te  PSC',\n",
       " 'te  PSD',\n",
       " 'te  PSDB',\n",
       " 'te  PST',\n",
       " 'te  PT',\n",
       " 'te  PTB',\n",
       " 'te  PTN',\n",
       " 'te  PTR',\n",
       " 'te  S.Part',\n",
       " 'ção PAN',\n",
       " 'ção PCB',\n",
       " 'ção PCdoB',\n",
       " 'ção PDC',\n",
       " 'ção PDS',\n",
       " 'ção PDT',\n",
       " 'ção PFL',\n",
       " 'ção PL',\n",
       " 'ção PMDB',\n",
       " 'ção PMN',\n",
       " 'ção PP',\n",
       " 'ção PPB',\n",
       " 'ção PPR',\n",
       " 'ção PPS',\n",
       " 'ção PRN',\n",
       " 'ção PRONA',\n",
       " 'ção PRS',\n",
       " 'ção PSB',\n",
       " 'ção PSC',\n",
       " 'ção PSD',\n",
       " 'ção PSDB',\n",
       " 'ção PSL',\n",
       " 'ção PST',\n",
       " 'ção PSTU',\n",
       " 'ção PT',\n",
       " 'ção PTB',\n",
       " 'ção PTN',\n",
       " 'ção PTR',\n",
       " 'ção PV',\n",
       " 'ção S.Part'}"
      ]
     },
     "execution_count": 7,
     "metadata": {},
     "output_type": "execute_result"
    }
   ],
   "source": [
    "partidos = set(votes.party)\n",
    "partidos"
   ]
  },
  {
   "cell_type": "code",
   "execution_count": 8,
   "metadata": {},
   "outputs": [
    {
     "data": {
      "text/plain": [
       "{'Avante',\n",
       " 'DEM',\n",
       " 'PAN',\n",
       " 'PCB',\n",
       " 'PCdoB',\n",
       " 'PDC',\n",
       " 'PDS',\n",
       " 'PDT',\n",
       " 'PEN',\n",
       " 'PFL',\n",
       " 'PHDBS',\n",
       " 'PHS',\n",
       " 'PL',\n",
       " 'PMB',\n",
       " 'PMDB',\n",
       " 'PMN',\n",
       " 'PMR',\n",
       " 'PODE',\n",
       " 'PP',\n",
       " 'PPB',\n",
       " 'PPL',\n",
       " 'PPR',\n",
       " 'PPS',\n",
       " 'PR',\n",
       " 'PRB',\n",
       " 'PRN',\n",
       " 'PRONA',\n",
       " 'PROS',\n",
       " 'PRP',\n",
       " 'PRS',\n",
       " 'PRTB',\n",
       " 'PSB',\n",
       " 'PSC',\n",
       " 'PSD',\n",
       " 'PSDB',\n",
       " 'PSDC',\n",
       " 'PSL',\n",
       " 'PSOL',\n",
       " 'PST',\n",
       " 'PSTU',\n",
       " 'PT',\n",
       " 'PTB',\n",
       " 'PTC',\n",
       " 'PTN',\n",
       " 'PTR',\n",
       " 'PTdoB',\n",
       " 'PV',\n",
       " 'Podemos',\n",
       " 'REDE',\n",
       " 'S.Part',\n",
       " 'S.Part.',\n",
       " 'SDD',\n",
       " 'Solidarie',\n",
       " 'nan'}"
      ]
     },
     "execution_count": 8,
     "metadata": {},
     "output_type": "execute_result"
    }
   ],
   "source": [
    "votes['party'] = votes['party'].apply(lambda x: str(x).split(\" \")[-1])\n",
    "partidos = set(votes.party)\n",
    "partidos"
   ]
  },
  {
   "cell_type": "code",
   "execution_count": 9,
   "metadata": {},
   "outputs": [],
   "source": [
    "partidos_dict = {\"SDD\":\"Solidariedade\",\"Solidarie\":\"Solidariedade\",\"S.Part\":\"sem_partido\",\"S.Part.\":\"sem_partido\",\"nan\":np.nan}"
   ]
  },
  {
   "cell_type": "code",
   "execution_count": 10,
   "metadata": {},
   "outputs": [],
   "source": [
    "votes['party'] = votes['party'].replace(partidos_dict)"
   ]
  },
  {
   "cell_type": "markdown",
   "metadata": {},
   "source": [
    "**3.3. Slecionando apenas os anos 2015 e 2011 (anos mais recentes do dataset)**\n",
    "\n",
    "Esse filtro é interessante pois muitos partidos foram extintos ou mudaram de nome desde 1991."
   ]
  },
  {
   "cell_type": "code",
   "execution_count": 11,
   "metadata": {},
   "outputs": [
    {
     "data": {
      "text/plain": [
       "2015    424973\n",
       "2007    320566\n",
       "1999    230194\n",
       "2011    228824\n",
       "2003    227214\n",
       "1995    218109\n",
       "1991     68785\n",
       "Name: term, dtype: int64"
      ]
     },
     "execution_count": 11,
     "metadata": {},
     "output_type": "execute_result"
    }
   ],
   "source": [
    "#Entendendo a quantidade de votos em cada ano\n",
    "votes['term'].value_counts(dropna = False)"
   ]
  },
  {
   "cell_type": "code",
   "execution_count": 12,
   "metadata": {},
   "outputs": [
    {
     "name": "stdout",
     "output_type": "stream",
     "text": [
      "ano min_session max_session\n",
      "1991 1 206\n",
      "1995 1 232\n",
      "1999 2 263\n",
      "2003 3 328\n",
      "2007 2 356\n",
      "2011 2 418\n",
      "2015 2 400\n"
     ]
    }
   ],
   "source": [
    "#Entendendo a as colunas \"term\" e \"session_number\"\n",
    "print('ano','min_session','max_session')\n",
    "for ano in sorted(votes['term'].unique()):\n",
    "    print(ano,votes['session_number'][votes['term']== ano].min(),votes['session_number'][votes['term']== ano].max())"
   ]
  },
  {
   "cell_type": "code",
   "execution_count": 13,
   "metadata": {},
   "outputs": [],
   "source": [
    "votes = votes[(votes['term'] == 2011) | (votes['term'] == 2015)]"
   ]
  },
  {
   "cell_type": "markdown",
   "metadata": {},
   "source": [
    "**3.4. Criando uma coluna para cada sessão de votos da câmara**\n",
    "\n",
    "A coluna \"session_number\" tem valores de 1 418 que \"resetam\" a cada ano, por isso precisamos concatenar as colunas \"term\" e \"session_number\" para conseguirmos um valor único."
   ]
  },
  {
   "cell_type": "code",
   "execution_count": 14,
   "metadata": {},
   "outputs": [],
   "source": [
    "#tratando a coluna 'session_number'\n",
    "votes['session_number'] = votes['session_number'].astype('str')\n",
    "votes['session_number'] = votes['session_number'].str.zfill(3)"
   ]
  },
  {
   "cell_type": "code",
   "execution_count": 15,
   "metadata": {},
   "outputs": [],
   "source": [
    "#Criando uma nova coluna\n",
    "votes['term_session_number'] = votes['term'].astype('str') + \"-\" + votes['session_number'].astype('str')"
   ]
  },
  {
   "cell_type": "code",
   "execution_count": 16,
   "metadata": {},
   "outputs": [],
   "source": [
    "#Excluindo as colunas que não precisaremos mais\n",
    "votes = votes.drop(columns = ['term','session_number'])"
   ]
  },
  {
   "cell_type": "markdown",
   "metadata": {},
   "source": [
    "**3.5. Tratando a coluna 'vote' com o voto de cada deputado**\n",
    "\n",
    "Idealmente os votos seriam apenas \"yes\" ou \"no\", no entanto, temos diversos valores diferentes dessas duas opções. Dentre eles destaca-se o valor \"<------->\", que representa 30% dos dados."
   ]
  },
  {
   "cell_type": "code",
   "execution_count": 17,
   "metadata": {},
   "outputs": [
    {
     "data": {
      "text/plain": [
       "yes            0.361375\n",
       "<------->      0.302286\n",
       "no             0.289594\n",
       "obstruction    0.034806\n",
       "Presente       0.005199\n",
       "abstention     0.004717\n",
       "Art. 17        0.001909\n",
       "Art.51         0.000073\n",
       "Ausente        0.000038\n",
       "NaN            0.000002\n",
       "Name: vote, dtype: float64"
      ]
     },
     "execution_count": 17,
     "metadata": {},
     "output_type": "execute_result"
    }
   ],
   "source": [
    "#entendendo os valores na coluna vote\n",
    "votes['vote'].value_counts(dropna = False, normalize = True)"
   ]
  },
  {
   "cell_type": "code",
   "execution_count": 18,
   "metadata": {},
   "outputs": [
    {
     "data": {
      "text/plain": [
       "PMDB    0.139682\n",
       "PT      0.118360\n",
       "PSDB    0.098460\n",
       "PP      0.093025\n",
       "PR      0.077507\n",
       "PSD     0.076470\n",
       "DEM     0.059018\n",
       "PSB     0.054616\n",
       "PTB     0.042113\n",
       "PDT     0.038470\n",
       "Name: party, dtype: float64"
      ]
     },
     "execution_count": 18,
     "metadata": {},
     "output_type": "execute_result"
    }
   ],
   "source": [
    "#entendendo a distribuição dos partidos para os valores '<------->'\n",
    "votes['party'][votes['vote'] == '<------->'].value_counts(normalize=True).head(10)"
   ]
  },
  {
   "cell_type": "code",
   "execution_count": 19,
   "metadata": {},
   "outputs": [
    {
     "data": {
      "text/plain": [
       "PT      0.143039\n",
       "PMDB    0.134992\n",
       "PSDB    0.096231\n",
       "PP      0.077694\n",
       "PSD     0.069002\n",
       "PR      0.068548\n",
       "PSB     0.063613\n",
       "DEM     0.050153\n",
       "PDT     0.041904\n",
       "PTB     0.037250\n",
       "Name: party, dtype: float64"
      ]
     },
     "execution_count": 19,
     "metadata": {},
     "output_type": "execute_result"
    }
   ],
   "source": [
    "#entendendo a distribuição dos partidos para os valores diferentes de '<------->'\n",
    "votes['party'][votes['vote'] != '<------->'].value_counts(normalize=True).head(10)"
   ]
  },
  {
   "cell_type": "code",
   "execution_count": 20,
   "metadata": {},
   "outputs": [],
   "source": [
    "#Apesar dos votos \"<------>\" corresponderem a um percentual grande dos votos,\n",
    "#como no geral a distribuição dos partidos para esses votos é bem parecida da distribuição dos\n",
    "#demais votos, vamos desconsiderar as linhas que possuem \"<------>\" sem que isso\n",
    "#prejudique a qualidade da nossa análise.\n",
    "#Vamos considerar apenas os votos 'sim' ou 'não', que correspondem a 65% do dataset.\n",
    "votes = votes[(votes['vote'] == 'yes') | (votes['vote'] == 'no')]"
   ]
  },
  {
   "cell_type": "code",
   "execution_count": 21,
   "metadata": {},
   "outputs": [],
   "source": [
    "#Criando duas novas colunas para em função do que foi votado\n",
    "votes['voted_yes'] = votes['vote'].replace({'yes':1,'no':0})\n",
    "votes['voted_no'] = votes['vote'].replace({'yes':0,'no':1})"
   ]
  },
  {
   "cell_type": "markdown",
   "metadata": {},
   "source": [
    "**3.6. Agrupando os votos por partido e por votação**"
   ]
  },
  {
   "cell_type": "code",
   "execution_count": 22,
   "metadata": {},
   "outputs": [
    {
     "data": {
      "text/html": [
       "<div>\n",
       "<style scoped>\n",
       "    .dataframe tbody tr th:only-of-type {\n",
       "        vertical-align: middle;\n",
       "    }\n",
       "\n",
       "    .dataframe tbody tr th {\n",
       "        vertical-align: top;\n",
       "    }\n",
       "\n",
       "    .dataframe thead th {\n",
       "        text-align: right;\n",
       "    }\n",
       "</style>\n",
       "<table border=\"1\" class=\"dataframe\">\n",
       "  <thead>\n",
       "    <tr style=\"text-align: right;\">\n",
       "      <th></th>\n",
       "      <th></th>\n",
       "      <th>voted_no</th>\n",
       "      <th>voted_yes</th>\n",
       "    </tr>\n",
       "    <tr>\n",
       "      <th>term_session_number</th>\n",
       "      <th>party</th>\n",
       "      <th></th>\n",
       "      <th></th>\n",
       "    </tr>\n",
       "  </thead>\n",
       "  <tbody>\n",
       "    <tr>\n",
       "      <th rowspan=\"5\" valign=\"top\">2011-002</th>\n",
       "      <th>DEM</th>\n",
       "      <td>0.058824</td>\n",
       "      <td>0.941176</td>\n",
       "    </tr>\n",
       "    <tr>\n",
       "      <th>PCdoB</th>\n",
       "      <td>0.100000</td>\n",
       "      <td>0.900000</td>\n",
       "    </tr>\n",
       "    <tr>\n",
       "      <th>PDT</th>\n",
       "      <td>0.062500</td>\n",
       "      <td>0.937500</td>\n",
       "    </tr>\n",
       "    <tr>\n",
       "      <th>PMDB</th>\n",
       "      <td>0.571429</td>\n",
       "      <td>0.428571</td>\n",
       "    </tr>\n",
       "    <tr>\n",
       "      <th>PMN</th>\n",
       "      <td>0.500000</td>\n",
       "      <td>0.500000</td>\n",
       "    </tr>\n",
       "    <tr>\n",
       "      <th>...</th>\n",
       "      <th>...</th>\n",
       "      <td>...</td>\n",
       "      <td>...</td>\n",
       "    </tr>\n",
       "    <tr>\n",
       "      <th rowspan=\"5\" valign=\"top\">2015-400</th>\n",
       "      <th>PTB</th>\n",
       "      <td>0.000000</td>\n",
       "      <td>1.000000</td>\n",
       "    </tr>\n",
       "    <tr>\n",
       "      <th>PV</th>\n",
       "      <td>0.500000</td>\n",
       "      <td>0.500000</td>\n",
       "    </tr>\n",
       "    <tr>\n",
       "      <th>Podemos</th>\n",
       "      <td>0.000000</td>\n",
       "      <td>1.000000</td>\n",
       "    </tr>\n",
       "    <tr>\n",
       "      <th>Solidariedade</th>\n",
       "      <td>0.230769</td>\n",
       "      <td>0.769231</td>\n",
       "    </tr>\n",
       "    <tr>\n",
       "      <th>sem_partido</th>\n",
       "      <td>0.000000</td>\n",
       "      <td>1.000000</td>\n",
       "    </tr>\n",
       "  </tbody>\n",
       "</table>\n",
       "<p>11379 rows × 2 columns</p>\n",
       "</div>"
      ],
      "text/plain": [
       "                                   voted_no  voted_yes\n",
       "term_session_number party                             \n",
       "2011-002            DEM            0.058824   0.941176\n",
       "                    PCdoB          0.100000   0.900000\n",
       "                    PDT            0.062500   0.937500\n",
       "                    PMDB           0.571429   0.428571\n",
       "                    PMN            0.500000   0.500000\n",
       "...                                     ...        ...\n",
       "2015-400            PTB            0.000000   1.000000\n",
       "                    PV             0.500000   0.500000\n",
       "                    Podemos        0.000000   1.000000\n",
       "                    Solidariedade  0.230769   0.769231\n",
       "                    sem_partido    0.000000   1.000000\n",
       "\n",
       "[11379 rows x 2 columns]"
      ]
     },
     "execution_count": 22,
     "metadata": {},
     "output_type": "execute_result"
    }
   ],
   "source": [
    "grouped_votes = votes.pivot_table(['voted_yes','voted_no'],['term_session_number','party'])\n",
    "grouped_votes"
   ]
  },
  {
   "cell_type": "code",
   "execution_count": 23,
   "metadata": {},
   "outputs": [
    {
     "data": {
      "text/html": [
       "<div>\n",
       "<style scoped>\n",
       "    .dataframe tbody tr th:only-of-type {\n",
       "        vertical-align: middle;\n",
       "    }\n",
       "\n",
       "    .dataframe tbody tr th {\n",
       "        vertical-align: top;\n",
       "    }\n",
       "\n",
       "    .dataframe thead th {\n",
       "        text-align: right;\n",
       "    }\n",
       "</style>\n",
       "<table border=\"1\" class=\"dataframe\">\n",
       "  <thead>\n",
       "    <tr style=\"text-align: right;\">\n",
       "      <th></th>\n",
       "      <th>term_session_number</th>\n",
       "      <th>party</th>\n",
       "      <th>voted_no</th>\n",
       "      <th>voted_yes</th>\n",
       "    </tr>\n",
       "  </thead>\n",
       "  <tbody>\n",
       "    <tr>\n",
       "      <th>0</th>\n",
       "      <td>2011-002</td>\n",
       "      <td>DEM</td>\n",
       "      <td>0.058824</td>\n",
       "      <td>0.941176</td>\n",
       "    </tr>\n",
       "    <tr>\n",
       "      <th>1</th>\n",
       "      <td>2011-002</td>\n",
       "      <td>PCdoB</td>\n",
       "      <td>0.100000</td>\n",
       "      <td>0.900000</td>\n",
       "    </tr>\n",
       "    <tr>\n",
       "      <th>2</th>\n",
       "      <td>2011-002</td>\n",
       "      <td>PDT</td>\n",
       "      <td>0.062500</td>\n",
       "      <td>0.937500</td>\n",
       "    </tr>\n",
       "    <tr>\n",
       "      <th>3</th>\n",
       "      <td>2011-002</td>\n",
       "      <td>PMDB</td>\n",
       "      <td>0.571429</td>\n",
       "      <td>0.428571</td>\n",
       "    </tr>\n",
       "    <tr>\n",
       "      <th>4</th>\n",
       "      <td>2011-002</td>\n",
       "      <td>PMN</td>\n",
       "      <td>0.500000</td>\n",
       "      <td>0.500000</td>\n",
       "    </tr>\n",
       "    <tr>\n",
       "      <th>...</th>\n",
       "      <td>...</td>\n",
       "      <td>...</td>\n",
       "      <td>...</td>\n",
       "      <td>...</td>\n",
       "    </tr>\n",
       "    <tr>\n",
       "      <th>11374</th>\n",
       "      <td>2015-400</td>\n",
       "      <td>PTB</td>\n",
       "      <td>0.000000</td>\n",
       "      <td>1.000000</td>\n",
       "    </tr>\n",
       "    <tr>\n",
       "      <th>11375</th>\n",
       "      <td>2015-400</td>\n",
       "      <td>PV</td>\n",
       "      <td>0.500000</td>\n",
       "      <td>0.500000</td>\n",
       "    </tr>\n",
       "    <tr>\n",
       "      <th>11376</th>\n",
       "      <td>2015-400</td>\n",
       "      <td>Podemos</td>\n",
       "      <td>0.000000</td>\n",
       "      <td>1.000000</td>\n",
       "    </tr>\n",
       "    <tr>\n",
       "      <th>11377</th>\n",
       "      <td>2015-400</td>\n",
       "      <td>Solidariedade</td>\n",
       "      <td>0.230769</td>\n",
       "      <td>0.769231</td>\n",
       "    </tr>\n",
       "    <tr>\n",
       "      <th>11378</th>\n",
       "      <td>2015-400</td>\n",
       "      <td>sem_partido</td>\n",
       "      <td>0.000000</td>\n",
       "      <td>1.000000</td>\n",
       "    </tr>\n",
       "  </tbody>\n",
       "</table>\n",
       "<p>11379 rows × 4 columns</p>\n",
       "</div>"
      ],
      "text/plain": [
       "      term_session_number          party  voted_no  voted_yes\n",
       "0                2011-002            DEM  0.058824   0.941176\n",
       "1                2011-002          PCdoB  0.100000   0.900000\n",
       "2                2011-002            PDT  0.062500   0.937500\n",
       "3                2011-002           PMDB  0.571429   0.428571\n",
       "4                2011-002            PMN  0.500000   0.500000\n",
       "...                   ...            ...       ...        ...\n",
       "11374            2015-400            PTB  0.000000   1.000000\n",
       "11375            2015-400             PV  0.500000   0.500000\n",
       "11376            2015-400        Podemos  0.000000   1.000000\n",
       "11377            2015-400  Solidariedade  0.230769   0.769231\n",
       "11378            2015-400    sem_partido  0.000000   1.000000\n",
       "\n",
       "[11379 rows x 4 columns]"
      ]
     },
     "execution_count": 23,
     "metadata": {},
     "output_type": "execute_result"
    }
   ],
   "source": [
    "grouped_votes = grouped_votes.reset_index(level=['term_session_number', 'party'])\n",
    "grouped_votes"
   ]
  },
  {
   "cell_type": "code",
   "execution_count": 24,
   "metadata": {},
   "outputs": [],
   "source": [
    "#Como a informação da coluna \"voted_no\" já consta na coluna \"voted_yes\" (no = 1 - yes) podemos excluí-la\n",
    "grouped_votes = grouped_votes.drop(columns = 'voted_no')"
   ]
  },
  {
   "cell_type": "code",
   "execution_count": 25,
   "metadata": {},
   "outputs": [
    {
     "data": {
      "text/html": [
       "<div>\n",
       "<style scoped>\n",
       "    .dataframe tbody tr th:only-of-type {\n",
       "        vertical-align: middle;\n",
       "    }\n",
       "\n",
       "    .dataframe tbody tr th {\n",
       "        vertical-align: top;\n",
       "    }\n",
       "\n",
       "    .dataframe thead th {\n",
       "        text-align: right;\n",
       "    }\n",
       "</style>\n",
       "<table border=\"1\" class=\"dataframe\">\n",
       "  <thead>\n",
       "    <tr style=\"text-align: right;\">\n",
       "      <th></th>\n",
       "      <th>term_session_number</th>\n",
       "      <th>party</th>\n",
       "      <th>voted_yes</th>\n",
       "    </tr>\n",
       "  </thead>\n",
       "  <tbody>\n",
       "    <tr>\n",
       "      <th>0</th>\n",
       "      <td>2011-002</td>\n",
       "      <td>DEM</td>\n",
       "      <td>0.941176</td>\n",
       "    </tr>\n",
       "    <tr>\n",
       "      <th>1</th>\n",
       "      <td>2011-002</td>\n",
       "      <td>PCdoB</td>\n",
       "      <td>0.900000</td>\n",
       "    </tr>\n",
       "    <tr>\n",
       "      <th>2</th>\n",
       "      <td>2011-002</td>\n",
       "      <td>PDT</td>\n",
       "      <td>0.937500</td>\n",
       "    </tr>\n",
       "    <tr>\n",
       "      <th>3</th>\n",
       "      <td>2011-002</td>\n",
       "      <td>PMDB</td>\n",
       "      <td>0.428571</td>\n",
       "    </tr>\n",
       "    <tr>\n",
       "      <th>4</th>\n",
       "      <td>2011-002</td>\n",
       "      <td>PMN</td>\n",
       "      <td>0.500000</td>\n",
       "    </tr>\n",
       "    <tr>\n",
       "      <th>...</th>\n",
       "      <td>...</td>\n",
       "      <td>...</td>\n",
       "      <td>...</td>\n",
       "    </tr>\n",
       "    <tr>\n",
       "      <th>11374</th>\n",
       "      <td>2015-400</td>\n",
       "      <td>PTB</td>\n",
       "      <td>1.000000</td>\n",
       "    </tr>\n",
       "    <tr>\n",
       "      <th>11375</th>\n",
       "      <td>2015-400</td>\n",
       "      <td>PV</td>\n",
       "      <td>0.500000</td>\n",
       "    </tr>\n",
       "    <tr>\n",
       "      <th>11376</th>\n",
       "      <td>2015-400</td>\n",
       "      <td>Podemos</td>\n",
       "      <td>1.000000</td>\n",
       "    </tr>\n",
       "    <tr>\n",
       "      <th>11377</th>\n",
       "      <td>2015-400</td>\n",
       "      <td>Solidariedade</td>\n",
       "      <td>0.769231</td>\n",
       "    </tr>\n",
       "    <tr>\n",
       "      <th>11378</th>\n",
       "      <td>2015-400</td>\n",
       "      <td>sem_partido</td>\n",
       "      <td>1.000000</td>\n",
       "    </tr>\n",
       "  </tbody>\n",
       "</table>\n",
       "<p>11379 rows × 3 columns</p>\n",
       "</div>"
      ],
      "text/plain": [
       "      term_session_number          party  voted_yes\n",
       "0                2011-002            DEM   0.941176\n",
       "1                2011-002          PCdoB   0.900000\n",
       "2                2011-002            PDT   0.937500\n",
       "3                2011-002           PMDB   0.428571\n",
       "4                2011-002            PMN   0.500000\n",
       "...                   ...            ...        ...\n",
       "11374            2015-400            PTB   1.000000\n",
       "11375            2015-400             PV   0.500000\n",
       "11376            2015-400        Podemos   1.000000\n",
       "11377            2015-400  Solidariedade   0.769231\n",
       "11378            2015-400    sem_partido   1.000000\n",
       "\n",
       "[11379 rows x 3 columns]"
      ]
     },
     "execution_count": 25,
     "metadata": {},
     "output_type": "execute_result"
    }
   ],
   "source": [
    "grouped_votes"
   ]
  },
  {
   "cell_type": "code",
   "execution_count": 26,
   "metadata": {},
   "outputs": [
    {
     "data": {
      "text/html": [
       "<div>\n",
       "<style scoped>\n",
       "    .dataframe tbody tr th:only-of-type {\n",
       "        vertical-align: middle;\n",
       "    }\n",
       "\n",
       "    .dataframe tbody tr th {\n",
       "        vertical-align: top;\n",
       "    }\n",
       "\n",
       "    .dataframe thead tr th {\n",
       "        text-align: left;\n",
       "    }\n",
       "\n",
       "    .dataframe thead tr:last-of-type th {\n",
       "        text-align: right;\n",
       "    }\n",
       "</style>\n",
       "<table border=\"1\" class=\"dataframe\">\n",
       "  <thead>\n",
       "    <tr>\n",
       "      <th></th>\n",
       "      <th colspan=\"21\" halign=\"left\">voted_yes</th>\n",
       "    </tr>\n",
       "    <tr>\n",
       "      <th>term_session_number</th>\n",
       "      <th>2011-002</th>\n",
       "      <th>2011-004</th>\n",
       "      <th>2011-005</th>\n",
       "      <th>2011-009</th>\n",
       "      <th>2011-010</th>\n",
       "      <th>2011-011</th>\n",
       "      <th>2011-012</th>\n",
       "      <th>2011-013</th>\n",
       "      <th>2011-014</th>\n",
       "      <th>2011-015</th>\n",
       "      <th>...</th>\n",
       "      <th>2015-378</th>\n",
       "      <th>2015-379</th>\n",
       "      <th>2015-381</th>\n",
       "      <th>2015-389</th>\n",
       "      <th>2015-390</th>\n",
       "      <th>2015-391</th>\n",
       "      <th>2015-392</th>\n",
       "      <th>2015-394</th>\n",
       "      <th>2015-399</th>\n",
       "      <th>2015-400</th>\n",
       "    </tr>\n",
       "    <tr>\n",
       "      <th>party</th>\n",
       "      <th></th>\n",
       "      <th></th>\n",
       "      <th></th>\n",
       "      <th></th>\n",
       "      <th></th>\n",
       "      <th></th>\n",
       "      <th></th>\n",
       "      <th></th>\n",
       "      <th></th>\n",
       "      <th></th>\n",
       "      <th></th>\n",
       "      <th></th>\n",
       "      <th></th>\n",
       "      <th></th>\n",
       "      <th></th>\n",
       "      <th></th>\n",
       "      <th></th>\n",
       "      <th></th>\n",
       "      <th></th>\n",
       "      <th></th>\n",
       "      <th></th>\n",
       "    </tr>\n",
       "  </thead>\n",
       "  <tbody>\n",
       "    <tr>\n",
       "      <th>Avante</th>\n",
       "      <td>NaN</td>\n",
       "      <td>NaN</td>\n",
       "      <td>NaN</td>\n",
       "      <td>NaN</td>\n",
       "      <td>NaN</td>\n",
       "      <td>NaN</td>\n",
       "      <td>NaN</td>\n",
       "      <td>NaN</td>\n",
       "      <td>NaN</td>\n",
       "      <td>NaN</td>\n",
       "      <td>...</td>\n",
       "      <td>0.444444</td>\n",
       "      <td>1.0</td>\n",
       "      <td>1.0</td>\n",
       "      <td>0.0</td>\n",
       "      <td>0.583333</td>\n",
       "      <td>0.500000</td>\n",
       "      <td>1.000000</td>\n",
       "      <td>NaN</td>\n",
       "      <td>0.333333</td>\n",
       "      <td>1.0</td>\n",
       "    </tr>\n",
       "    <tr>\n",
       "      <th>DEM</th>\n",
       "      <td>0.941176</td>\n",
       "      <td>1.00</td>\n",
       "      <td>1.0</td>\n",
       "      <td>0.333333</td>\n",
       "      <td>1.000000</td>\n",
       "      <td>0.987179</td>\n",
       "      <td>1.000000</td>\n",
       "      <td>0.924051</td>\n",
       "      <td>0.419355</td>\n",
       "      <td>0.947368</td>\n",
       "      <td>...</td>\n",
       "      <td>0.536585</td>\n",
       "      <td>1.0</td>\n",
       "      <td>1.0</td>\n",
       "      <td>0.0</td>\n",
       "      <td>0.777778</td>\n",
       "      <td>0.060000</td>\n",
       "      <td>0.764706</td>\n",
       "      <td>0.515152</td>\n",
       "      <td>0.000000</td>\n",
       "      <td>1.0</td>\n",
       "    </tr>\n",
       "    <tr>\n",
       "      <th>PCdoB</th>\n",
       "      <td>0.900000</td>\n",
       "      <td>1.00</td>\n",
       "      <td>1.0</td>\n",
       "      <td>0.000000</td>\n",
       "      <td>NaN</td>\n",
       "      <td>1.000000</td>\n",
       "      <td>0.000000</td>\n",
       "      <td>0.033333</td>\n",
       "      <td>1.000000</td>\n",
       "      <td>0.000000</td>\n",
       "      <td>...</td>\n",
       "      <td>0.473684</td>\n",
       "      <td>1.0</td>\n",
       "      <td>1.0</td>\n",
       "      <td>0.0</td>\n",
       "      <td>0.363636</td>\n",
       "      <td>1.000000</td>\n",
       "      <td>1.000000</td>\n",
       "      <td>0.521739</td>\n",
       "      <td>NaN</td>\n",
       "      <td>1.0</td>\n",
       "    </tr>\n",
       "    <tr>\n",
       "      <th>PDT</th>\n",
       "      <td>0.937500</td>\n",
       "      <td>0.96</td>\n",
       "      <td>1.0</td>\n",
       "      <td>0.250000</td>\n",
       "      <td>0.444444</td>\n",
       "      <td>1.000000</td>\n",
       "      <td>0.647059</td>\n",
       "      <td>0.234043</td>\n",
       "      <td>0.930233</td>\n",
       "      <td>0.555556</td>\n",
       "      <td>...</td>\n",
       "      <td>0.117647</td>\n",
       "      <td>1.0</td>\n",
       "      <td>1.0</td>\n",
       "      <td>0.0</td>\n",
       "      <td>0.358974</td>\n",
       "      <td>0.842105</td>\n",
       "      <td>0.956522</td>\n",
       "      <td>0.551724</td>\n",
       "      <td>0.333333</td>\n",
       "      <td>1.0</td>\n",
       "    </tr>\n",
       "    <tr>\n",
       "      <th>PEN</th>\n",
       "      <td>NaN</td>\n",
       "      <td>1.00</td>\n",
       "      <td>NaN</td>\n",
       "      <td>1.000000</td>\n",
       "      <td>NaN</td>\n",
       "      <td>NaN</td>\n",
       "      <td>NaN</td>\n",
       "      <td>NaN</td>\n",
       "      <td>NaN</td>\n",
       "      <td>NaN</td>\n",
       "      <td>...</td>\n",
       "      <td>0.500000</td>\n",
       "      <td>1.0</td>\n",
       "      <td>1.0</td>\n",
       "      <td>0.0</td>\n",
       "      <td>0.750000</td>\n",
       "      <td>0.000000</td>\n",
       "      <td>1.000000</td>\n",
       "      <td>0.666667</td>\n",
       "      <td>0.000000</td>\n",
       "      <td>1.0</td>\n",
       "    </tr>\n",
       "  </tbody>\n",
       "</table>\n",
       "<p>5 rows × 461 columns</p>\n",
       "</div>"
      ],
      "text/plain": [
       "                    voted_yes                                                  \\\n",
       "term_session_number  2011-002 2011-004 2011-005  2011-009  2011-010  2011-011   \n",
       "party                                                                           \n",
       "Avante                    NaN      NaN      NaN       NaN       NaN       NaN   \n",
       "DEM                  0.941176     1.00      1.0  0.333333  1.000000  0.987179   \n",
       "PCdoB                0.900000     1.00      1.0  0.000000       NaN  1.000000   \n",
       "PDT                  0.937500     0.96      1.0  0.250000  0.444444  1.000000   \n",
       "PEN                       NaN     1.00      NaN  1.000000       NaN       NaN   \n",
       "\n",
       "                                                             ...            \\\n",
       "term_session_number  2011-012  2011-013  2011-014  2011-015  ...  2015-378   \n",
       "party                                                        ...             \n",
       "Avante                    NaN       NaN       NaN       NaN  ...  0.444444   \n",
       "DEM                  1.000000  0.924051  0.419355  0.947368  ...  0.536585   \n",
       "PCdoB                0.000000  0.033333  1.000000  0.000000  ...  0.473684   \n",
       "PDT                  0.647059  0.234043  0.930233  0.555556  ...  0.117647   \n",
       "PEN                       NaN       NaN       NaN       NaN  ...  0.500000   \n",
       "\n",
       "                                                                              \\\n",
       "term_session_number 2015-379 2015-381 2015-389  2015-390  2015-391  2015-392   \n",
       "party                                                                          \n",
       "Avante                   1.0      1.0      0.0  0.583333  0.500000  1.000000   \n",
       "DEM                      1.0      1.0      0.0  0.777778  0.060000  0.764706   \n",
       "PCdoB                    1.0      1.0      0.0  0.363636  1.000000  1.000000   \n",
       "PDT                      1.0      1.0      0.0  0.358974  0.842105  0.956522   \n",
       "PEN                      1.0      1.0      0.0  0.750000  0.000000  1.000000   \n",
       "\n",
       "                                                  \n",
       "term_session_number  2015-394  2015-399 2015-400  \n",
       "party                                             \n",
       "Avante                    NaN  0.333333      1.0  \n",
       "DEM                  0.515152  0.000000      1.0  \n",
       "PCdoB                0.521739       NaN      1.0  \n",
       "PDT                  0.551724  0.333333      1.0  \n",
       "PEN                  0.666667  0.000000      1.0  \n",
       "\n",
       "[5 rows x 461 columns]"
      ]
     },
     "execution_count": 26,
     "metadata": {},
     "output_type": "execute_result"
    }
   ],
   "source": [
    "pivot_votes = grouped_votes.pivot(index = 'party',columns = 'term_session_number')\n",
    "pivot_votes.head(5)"
   ]
  },
  {
   "cell_type": "markdown",
   "metadata": {},
   "source": [
    "**3.7. Filtrando partidos com muitos valores faltantes**"
   ]
  },
  {
   "cell_type": "code",
   "execution_count": 27,
   "metadata": {},
   "outputs": [
    {
     "data": {
      "text/plain": [
       "party\n",
       "PPL              0.995662\n",
       "PODE             0.932755\n",
       "Avante           0.908894\n",
       "Podemos          0.872017\n",
       "PMB              0.735358\n",
       "sem_partido      0.678959\n",
       "PSDC             0.674620\n",
       "PTC              0.611714\n",
       "REDE             0.603037\n",
       "PTN              0.555315\n",
       "PRTB             0.524946\n",
       "PMN              0.312364\n",
       "PEN              0.277657\n",
       "PROS             0.260304\n",
       "Solidariedade    0.258134\n",
       "PSL              0.214751\n",
       "PRP              0.160521\n",
       "PHS              0.156182\n",
       "PSOL             0.127983\n",
       "PTdoB            0.127983\n",
       "PCdoB            0.069414\n",
       "PSD              0.045553\n",
       "PT               0.034707\n",
       "DEM              0.030369\n",
       "PPS              0.026030\n",
       "PSDB             0.023861\n",
       "PV               0.021692\n",
       "PRB              0.017354\n",
       "PSC              0.013015\n",
       "PTB              0.013015\n",
       "PDT              0.010846\n",
       "PR               0.006508\n",
       "PSB              0.006508\n",
       "PP               0.006508\n",
       "PMDB             0.002169\n",
       "dtype: float64"
      ]
     },
     "execution_count": 27,
     "metadata": {},
     "output_type": "execute_result"
    }
   ],
   "source": [
    "missing = pivot_votes.isnull().sum(axis = 1)/pivot_votes.shape[1]\n",
    "missing.sort_values(ascending = False)"
   ]
  },
  {
   "cell_type": "code",
   "execution_count": 28,
   "metadata": {},
   "outputs": [
    {
     "data": {
      "image/png": "[encoded data removed]",
      "text/plain": [
       "<Figure size 720x720 with 2 Axes>"
      ]
     },
     "metadata": {
      "needs_background": "light"
     },
     "output_type": "display_data"
    }
   ],
   "source": [
    "#visualizando graficamente os valores faltantes\n",
    "plt.figure(figsize = (10,10))\n",
    "vazio = sns.heatmap(pivot_votes.isnull())"
   ]
  },
  {
   "cell_type": "code",
   "execution_count": 29,
   "metadata": {},
   "outputs": [
    {
     "data": {
      "text/plain": [
       "<AxesSubplot:xlabel='None-term_session_number', ylabel='party'>"
      ]
     },
     "execution_count": 29,
     "metadata": {},
     "output_type": "execute_result"
    },
    {
     "data": {
      "image/png": "[encoded data removed]",
      "text/plain": [
       "<Figure size 720x720 with 2 Axes>"
      ]
     },
     "metadata": {
      "needs_background": "light"
     },
     "output_type": "display_data"
    }
   ],
   "source": [
    "#visualizando graficamente os valores faltantes após filtro\n",
    "plt.figure(figsize = (10,10))\n",
    "sns.heatmap(pivot_votes[missing < 0.6].isnull())"
   ]
  },
  {
   "cell_type": "code",
   "execution_count": 30,
   "metadata": {},
   "outputs": [],
   "source": [
    "pivot_votes = pivot_votes[missing < 0.6]"
   ]
  },
  {
   "cell_type": "markdown",
   "metadata": {},
   "source": [
    "**3.8. Preenchendo valores faltantes com a média para os demais partidos**"
   ]
  },
  {
   "cell_type": "code",
   "execution_count": 31,
   "metadata": {},
   "outputs": [],
   "source": [
    "pivot_votes = pivot_votes.fillna(pivot_votes.mean())"
   ]
  },
  {
   "cell_type": "markdown",
   "metadata": {},
   "source": [
    "### 4. Criando modelo de clustering com KMeans\n",
    "\n",
    "* Vamos utilizar um modelo de clusterin com KMeans baseado em centróides. As principais etapas do algoritmo de clustering com KMeans são:\n",
    "\n",
    "  1. Define-se um valor de k = número de clusters que queremos criar (nesse caso, vamos usar 2 clusters, representando a \"esquerda\" e a \"direita\"\n",
    "  2. Defini posições aleatórias para o centro de cada um dos k clusters\n",
    "  3. Calcula a distância de cada ponto a cada centroide definido na etapa 2\n",
    "  4. Atribui cada ponto ao cluster mais próximo\n",
    "  5. Recalcula o novo centroide do cluster como sendo o centro dos pontos que foram atribuídos ao cluster\n",
    "  6. Repetir as etapas 3, 4 e 5 até que os clusters não se alterem entre cada iteração (indicando convergência)\n",
    "\n",
    "\n",
    "* A implementação KMeans do sklearn realiza todas essas etapas descritas acima. \n",
    "\n",
    "* Como é de se imaginar, os centroides iniciais aleatórios (etapa 2 descrita acima) influenciam muito no resultado final. Para minimizar esse erro, a implementação KMeans do sklearn possui o parâmetro n_init, onde definimos a quantidade de valores iniciais diferentes testadas de forma a minimizar o \"bias\" nosso modelo. Nesse projeto vamos utilizar n_init = 10. Ou seja, o sklearn vai testar 10 valores iniciais para os centroids e retornar o melhor resultado encontrado."
   ]
  },
  {
   "cell_type": "markdown",
   "metadata": {},
   "source": [
    "**4.1 Criando o modelo com k = 2**"
   ]
  },
  {
   "cell_type": "code",
   "execution_count": 32,
   "metadata": {},
   "outputs": [],
   "source": [
    "#Criando o modelo de clustering com o nosso dataset \"pivot_votes\" utilizando 2 clusters e 10 iterações\n",
    "from sklearn.cluster import KMeans\n",
    "kmeans_model = KMeans(n_clusters=2,n_init = 10, random_state = 5)\n",
    "\n",
    "#retorna a distância de cada partido ao centróide de cada um dos clusters\n",
    "congress_people_distance = kmeans_model.fit_transform(pivot_votes)"
   ]
  },
  {
   "cell_type": "markdown",
   "metadata": {},
   "source": [
    "**4.2 Visualizando os Clusters**\n",
    "\n",
    "Os valores nos eixos X e Y não tem um significado pois representam apenas a proximidade de cada ponto com o centro de cada cluster (no caso, \"esquerda\" e \"direita\").\n",
    "\n",
    "O scatter plot deve ser interpretado apenas analisando a distância relativa entre os pontos: Quanto mais próximos os pontos, mais similares foram os votos dos partidos.\n",
    "\n",
    "As cores dos pontos, por sua vez, indicam em qual cluster eles foram alocados pelo modelo."
   ]
  },
  {
   "cell_type": "code",
   "execution_count": 33,
   "metadata": {},
   "outputs": [
    {
     "data": {
      "image/png": "[encoded data removed]",
      "text/plain": [
       "<Figure size 720x720 with 1 Axes>"
      ]
     },
     "metadata": {
      "needs_background": "light"
     },
     "output_type": "display_data"
    }
   ],
   "source": [
    "#Retorna os labels definidos pelo modelo (nesse caso, 0 ou 1)\n",
    "labels = kmeans_model.labels_ \n",
    "\n",
    "x = congress_people_distance[:,0] #distância em relação ao primeiro cluster\n",
    "y = congress_people_distance[:,1] #distância em relação ao segundo cluster\n",
    "\n",
    "fig1 = plt.figure(figsize = (10,10))\n",
    "ax1 = fig1.add_subplot(1,1,1)\n",
    "ax1.scatter(y,x,c = labels, cmap = 'coolwarm')\n",
    "#ax1.tick_params(bottom=False,left = False,labelbottom=False,labelleft = False)\n",
    "ax1.set_title(\"Clustering dos partidos políticos com base nos votos dos deputados federais em 2011 e 2015\")\n",
    "\n",
    "for i, partido in enumerate(np.array(pivot_votes.index)):\n",
    "    ax1.annotate(partido, (y[i], x[i]))\n",
    "    \n",
    "plt.savefig('clustering_partidos')"
   ]
  },
  {
   "cell_type": "markdown",
   "metadata": {},
   "source": [
    "**4.3 Tentativa de modelo com k = 3**\n",
    "\n",
    "O excesso de partidos \"de direita\" com poucos partidos \"de esquerda\" pode indicar que, na verdade a premissa de utilizar k=2 não foi tão acertada, e que k = 3 faria mais sentido."
   ]
  },
  {
   "cell_type": "code",
   "execution_count": 49,
   "metadata": {},
   "outputs": [],
   "source": [
    "kmeans_model_ = KMeans(n_clusters=3,n_init = 10, random_state = 5)\n",
    "congress_people_distance_ = kmeans_model_.fit_transform(pivot_votes)\n",
    "pivot_votes['label'] = kmeans_model_.labels_"
   ]
  },
  {
   "cell_type": "code",
   "execution_count": 50,
   "metadata": {},
   "outputs": [
    {
     "data": {
      "text/html": [
       "<div>\n",
       "<style scoped>\n",
       "    .dataframe tbody tr th:only-of-type {\n",
       "        vertical-align: middle;\n",
       "    }\n",
       "\n",
       "    .dataframe tbody tr th {\n",
       "        vertical-align: top;\n",
       "    }\n",
       "\n",
       "    .dataframe thead tr th {\n",
       "        text-align: left;\n",
       "    }\n",
       "\n",
       "    .dataframe thead tr:last-of-type th {\n",
       "        text-align: right;\n",
       "    }\n",
       "</style>\n",
       "<table border=\"1\" class=\"dataframe\">\n",
       "  <thead>\n",
       "    <tr>\n",
       "      <th></th>\n",
       "      <th>label</th>\n",
       "    </tr>\n",
       "    <tr>\n",
       "      <th>term_session_number</th>\n",
       "      <th></th>\n",
       "    </tr>\n",
       "    <tr>\n",
       "      <th>party</th>\n",
       "      <th></th>\n",
       "    </tr>\n",
       "  </thead>\n",
       "  <tbody>\n",
       "    <tr>\n",
       "      <th>DEM</th>\n",
       "      <td>1</td>\n",
       "    </tr>\n",
       "    <tr>\n",
       "      <th>PCdoB</th>\n",
       "      <td>0</td>\n",
       "    </tr>\n",
       "    <tr>\n",
       "      <th>PDT</th>\n",
       "      <td>0</td>\n",
       "    </tr>\n",
       "    <tr>\n",
       "      <th>PEN</th>\n",
       "      <td>2</td>\n",
       "    </tr>\n",
       "    <tr>\n",
       "      <th>PHS</th>\n",
       "      <td>2</td>\n",
       "    </tr>\n",
       "    <tr>\n",
       "      <th>PMDB</th>\n",
       "      <td>2</td>\n",
       "    </tr>\n",
       "    <tr>\n",
       "      <th>PMN</th>\n",
       "      <td>2</td>\n",
       "    </tr>\n",
       "    <tr>\n",
       "      <th>PP</th>\n",
       "      <td>2</td>\n",
       "    </tr>\n",
       "    <tr>\n",
       "      <th>PPS</th>\n",
       "      <td>1</td>\n",
       "    </tr>\n",
       "    <tr>\n",
       "      <th>PR</th>\n",
       "      <td>2</td>\n",
       "    </tr>\n",
       "    <tr>\n",
       "      <th>PRB</th>\n",
       "      <td>2</td>\n",
       "    </tr>\n",
       "    <tr>\n",
       "      <th>PROS</th>\n",
       "      <td>2</td>\n",
       "    </tr>\n",
       "    <tr>\n",
       "      <th>PRP</th>\n",
       "      <td>2</td>\n",
       "    </tr>\n",
       "    <tr>\n",
       "      <th>PRTB</th>\n",
       "      <td>2</td>\n",
       "    </tr>\n",
       "    <tr>\n",
       "      <th>PSB</th>\n",
       "      <td>2</td>\n",
       "    </tr>\n",
       "    <tr>\n",
       "      <th>PSC</th>\n",
       "      <td>2</td>\n",
       "    </tr>\n",
       "    <tr>\n",
       "      <th>PSD</th>\n",
       "      <td>2</td>\n",
       "    </tr>\n",
       "    <tr>\n",
       "      <th>PSDB</th>\n",
       "      <td>1</td>\n",
       "    </tr>\n",
       "    <tr>\n",
       "      <th>PSL</th>\n",
       "      <td>2</td>\n",
       "    </tr>\n",
       "    <tr>\n",
       "      <th>PSOL</th>\n",
       "      <td>0</td>\n",
       "    </tr>\n",
       "    <tr>\n",
       "      <th>PT</th>\n",
       "      <td>0</td>\n",
       "    </tr>\n",
       "    <tr>\n",
       "      <th>PTB</th>\n",
       "      <td>2</td>\n",
       "    </tr>\n",
       "    <tr>\n",
       "      <th>PTN</th>\n",
       "      <td>2</td>\n",
       "    </tr>\n",
       "    <tr>\n",
       "      <th>PTdoB</th>\n",
       "      <td>2</td>\n",
       "    </tr>\n",
       "    <tr>\n",
       "      <th>PV</th>\n",
       "      <td>2</td>\n",
       "    </tr>\n",
       "    <tr>\n",
       "      <th>Solidariedade</th>\n",
       "      <td>1</td>\n",
       "    </tr>\n",
       "  </tbody>\n",
       "</table>\n",
       "</div>"
      ],
      "text/plain": [
       "                    label\n",
       "term_session_number      \n",
       "party                    \n",
       "DEM                     1\n",
       "PCdoB                   0\n",
       "PDT                     0\n",
       "PEN                     2\n",
       "PHS                     2\n",
       "PMDB                    2\n",
       "PMN                     2\n",
       "PP                      2\n",
       "PPS                     1\n",
       "PR                      2\n",
       "PRB                     2\n",
       "PROS                    2\n",
       "PRP                     2\n",
       "PRTB                    2\n",
       "PSB                     2\n",
       "PSC                     2\n",
       "PSD                     2\n",
       "PSDB                    1\n",
       "PSL                     2\n",
       "PSOL                    0\n",
       "PT                      0\n",
       "PTB                     2\n",
       "PTN                     2\n",
       "PTdoB                   2\n",
       "PV                      2\n",
       "Solidariedade           1"
      ]
     },
     "execution_count": 50,
     "metadata": {},
     "output_type": "execute_result"
    }
   ],
   "source": [
    "pivot_votes[['label']]"
   ]
  },
  {
   "cell_type": "code",
   "execution_count": 70,
   "metadata": {},
   "outputs": [
    {
     "name": "stdout",
     "output_type": "stream",
     "text": [
      "Partidos de esquerda ['PCdoB' 'PDT' 'PSOL' 'PT']\n"
     ]
    }
   ],
   "source": [
    "print(\"Partidos de esquerda\",pivot_votes[pivot_votes['label'] == 0].index.values)"
   ]
  },
  {
   "cell_type": "code",
   "execution_count": 71,
   "metadata": {},
   "outputs": [
    {
     "name": "stdout",
     "output_type": "stream",
     "text": [
      "Partidos de esquerda ['DEM' 'PPS' 'PSDB' 'Solidariedade']\n"
     ]
    }
   ],
   "source": [
    "print(\"Partidos de direita\",pivot_votes[pivot_votes['label'] == 1].index.values)"
   ]
  },
  {
   "cell_type": "code",
   "execution_count": 73,
   "metadata": {},
   "outputs": [
    {
     "name": "stdout",
     "output_type": "stream",
     "text": [
      "Partidos de centro ['PEN' 'PHS' 'PMDB' 'PMN' 'PP' 'PR' 'PRB' 'PROS' 'PRP' 'PRTB' 'PSB' 'PSC'\n",
      " 'PSD' 'PSL' 'PTB' 'PTN' 'PTdoB' 'PV']\n"
     ]
    }
   ],
   "source": [
    "print(\"Partidos de centro\",pivot_votes[pivot_votes['label'] == 2].index.values)"
   ]
  }
 ],
 "metadata": {
  "kernelspec": {
   "display_name": "Python 3",
   "language": "python",
   "name": "python3"
  },
  "language_info": {
   "codemirror_mode": {
    "name": "ipython",
    "version": 3
   },
   "file_extension": ".py",
   "mimetype": "text/x-python",
   "name": "python",
   "nbconvert_exporter": "python",
   "pygments_lexer": "ipython3",
   "version": "3.8.3"
  }
 },
 "nbformat": 4,
 "nbformat_minor": 4
}
